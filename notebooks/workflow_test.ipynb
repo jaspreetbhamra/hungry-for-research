{
 "cells": [
  {
   "cell_type": "code",
   "execution_count": null,
   "id": "f89c273b",
   "metadata": {},
   "outputs": [],
   "source": [
    "# uv is fucking annoying (or I don't know how to use it properly <- more likely tbh)...\n",
    "import sys\n",
    "from pathlib import Path\n",
    "\n",
    "\n",
    "def add_repo_root_to_sys_path():\n",
    "    \"\"\"Detect repo root (by .git or pyproject.toml) and add it to sys.path.\"\"\"\n",
    "    cwd = Path().resolve()\n",
    "\n",
    "    # Walk upwards until we find a marker of repo root\n",
    "    for parent in [cwd] + list(cwd.parents):\n",
    "        if (parent / \".git\").exists() or (parent / \"pyproject.toml\").exists():\n",
    "            repo_root = parent\n",
    "            break\n",
    "    else:\n",
    "        raise RuntimeError(\n",
    "            \"❌ Could not find repo root (no .git or pyproject.toml found).\"\n",
    "        )\n",
    "\n",
    "    repo_root_str = str(repo_root)\n",
    "    if repo_root_str not in sys.path:\n",
    "        sys.path.insert(0, repo_root_str)\n",
    "        print(f\"✅ Added repo root to sys.path: {repo_root_str}\")\n",
    "    else:\n",
    "        print(f\"ℹ️ Repo root already in sys.path: {repo_root_str}\")\n",
    "\n",
    "\n",
    "add_repo_root_to_sys_path()"
   ]
  },
  {
   "cell_type": "code",
   "execution_count": null,
   "id": "1d6b51a9",
   "metadata": {},
   "outputs": [],
   "source": []
  },
  {
   "cell_type": "markdown",
   "id": "035a9d6f",
   "metadata": {},
   "source": [
    "## Build Index for search\n",
    "\n",
    "```bash\n",
    "uv run python -m ingestion.cli_build_index --input_dir data/docs --urls_file data/urls.txt --collection papers\n",
    "```"
   ]
  },
  {
   "cell_type": "markdown",
   "id": "81bbcb37",
   "metadata": {},
   "source": [
    "## Bring up the Neo4J DB\n",
    "\n",
    "```bash\n",
    "docker run \\\n",
    "  -p 7474:7474 -p 7687:7687 \\\n",
    "  -e NEO4J_AUTH=neo4j/neo4j_test \\\n",
    "  neo4j:5\n",
    "```"
   ]
  },
  {
   "cell_type": "code",
   "execution_count": null,
   "id": "240d7b08",
   "metadata": {},
   "outputs": [],
   "source": []
  }
 ],
 "metadata": {
  "kernelspec": {
   "display_name": "hungry-for-research",
   "language": "python",
   "name": "python3"
  },
  "language_info": {
   "codemirror_mode": {
    "name": "ipython",
    "version": 3
   },
   "file_extension": ".py",
   "mimetype": "text/x-python",
   "name": "python",
   "nbconvert_exporter": "python",
   "pygments_lexer": "ipython3",
   "version": "3.12.0"
  }
 },
 "nbformat": 4,
 "nbformat_minor": 5
}
