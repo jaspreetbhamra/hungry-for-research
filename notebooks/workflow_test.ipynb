{
 "cells": [
  {
   "cell_type": "markdown",
   "id": "035a9d6f",
   "metadata": {},
   "source": [
    "## Build Index for search\n",
    "\n",
    "```bash\n",
    "uv run python -m ingestion.cli_build_index --input_dir data/docs --urls_file data/urls.txt --collection papers\n",
    "```"
   ]
  },
  {
   "cell_type": "markdown",
   "id": "81bbcb37",
   "metadata": {},
   "source": []
  }
 ],
 "metadata": {
  "language_info": {
   "name": "python"
  }
 },
 "nbformat": 4,
 "nbformat_minor": 5
}
